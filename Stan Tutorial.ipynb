{
 "cells": [
  {
   "cell_type": "markdown",
   "metadata": {
    "slideshow": {
     "slide_type": "slide"
    }
   },
   "source": [
    "# Introduction to (Py)Stan"
   ]
  },
  {
   "cell_type": "markdown",
   "metadata": {
    "slideshow": {
     "slide_type": "slide"
    }
   },
   "source": [
    "# Installation\n",
    "\n",
    "- Requirements: numpy & Cython\n",
    "- Might help to have an anaconda environment\n",
    "- `pip install pystan`\n",
    "- We'll also use corner\n",
    "    - `pip install corner`, or\n",
    "    - `git clone https://github.com/dfm/corner.py.git`, then\n",
    "    `python setup.py install`"
   ]
  },
  {
   "cell_type": "code",
   "execution_count": 1,
   "metadata": {
    "slideshow": {
     "slide_type": "slide"
    }
   },
   "outputs": [],
   "source": [
    "import numpy as np\n",
    "import matplotlib.pyplot as plt\n",
    "import pystan as stan\n",
    "import corner\n",
    "%matplotlib inline"
   ]
  },
  {
   "cell_type": "markdown",
   "metadata": {
    "slideshow": {
     "slide_type": "slide"
    }
   },
   "source": [
    "# Basics of Stan\n",
    "\n",
    "- Have data and a probabilistic model with parameters that needs sampling\n",
    "- Need to create a Stan model with basic contents:\n",
    "    - data\n",
    "    - parameters\n",
    "    - model\n",
    "- Stan model must be described in a single string written in Stan code\n",
    "- Start with fitting for a line\n",
    "\\begin{equation}\n",
    "y = ax + b\n",
    "\\end{equation}"
   ]
  },
  {
   "cell_type": "code",
   "execution_count": 2,
   "metadata": {
    "slideshow": {
     "slide_type": "slide"
    }
   },
   "outputs": [
    {
     "data": {
      "image/png": "[encoded data removed]",
      "text/plain": [
       "<matplotlib.figure.Figure at 0x7f68034bcf90>"
      ]
     },
     "metadata": {},
     "output_type": "display_data"
    }
   ],
   "source": [
    "x, y = np.loadtxt(\"linedat.txt\")\n",
    "\n",
    "plt.figure(figsize=(8,6))\n",
    "plt.errorbar(x, y, yerr=3, fmt='.')\n",
    "plt.show()"
   ]
  },
  {
   "cell_type": "markdown",
   "metadata": {
    "slideshow": {
     "slide_type": "slide"
    }
   },
   "source": [
    "# Model for a line\n",
    "\n",
    "- Data, $d_i= \\{ x_i, y_i \\}$, each $y_i$ measured with noise = 3\n",
    "- Parameters, $\\theta = \\{ a, b \\}$\n",
    "    - $0 < a < 8$\n",
    "    - $-5 < b < 5$\n",
    "- Model: \n",
    "\n",
    "\\begin{equation}\n",
    "p(\\theta\\, |\\, D) = p(D\\,|\\,\\theta) p(\\theta)\n",
    "\\end{equation}\n",
    "\n",
    "\\begin{equation}\n",
    "p(D\\,|\\,\\theta) = \\prod_i \\mathcal{N}(\\,y_i\\, |\\, ax_i + b, 3^2)\n",
    "\\end{equation}"
   ]
  },
  {
   "cell_type": "code",
   "execution_count": null,
   "metadata": {
    "slideshow": {
     "slide_type": "slide"
    }
   },
   "outputs": [],
   "source": [
    "SampleCode = \"\"\"\n",
    "data {\n",
    "    type variable; // This is how you comment\n",
    "    int n; // Defining an integer\n",
    "    real r; // Defining a real number\n",
    "    real[n] rs; // Defining an array of reals with size n\n",
    "    vector[n] v; // Defining a vector of size n (Same as above, but can vectorize operations)\n",
    "    \n",
    "    int<lower=0> pos; // Defining a positive definite integer\n",
    "    real<lower=-4.6, upper=7.8> rl; // Defining a real number with a strict range\n",
    "    vector<lower=-10, upper=10>[n] vec; // Defining a restricted vector with size n\n",
    "}\n",
    "\n",
    "parameters{\n",
    "    type par; // More comments\n",
    "}\n",
    "\n",
    "transformed parameters{\n",
    "    vector[n] true = par*vec + rl; // \n",
    "}\n",
    "\n",
    "model {\n",
    "    measured ~ normal(true, error); // Sampling from a normal distribution, OR\n",
    "    for (i in 1:n) {\n",
    "        v[i] ~ normal(true[i], error)\n",
    "    };\n",
    "    \n",
    "    par ~ uniform(low, up); // Sampling from a uniform prior\n",
    "}\n",
    "\"\"\""
   ]
  },
  {
   "cell_type": "code",
   "execution_count": null,
   "metadata": {
    "slideshow": {
     "slide_type": "subslide"
    }
   },
   "outputs": [],
   "source": [
    "SampleCode = \"\"\"\n",
    "data {\n",
    "    type variable; // This is how you comment\n",
    "}\n",
    "\"\"\""
   ]
  },
  {
   "cell_type": "code",
   "execution_count": null,
   "metadata": {
    "slideshow": {
     "slide_type": "subslide"
    }
   },
   "outputs": [],
   "source": [
    "SampleCode = \"\"\"\n",
    "data {\n",
    "    type variable; // This is how you comment\n",
    "    int n; // Defining an integer\n",
    "    real r; // Defining a real number\n",
    "    real[n] rs; // Defining an array of reals with size n\n",
    "    vector[n] v; // Defining a vector of size n (Same as above, but can vectorize operations)\n",
    "    \n",
    "    int<lower=0> pos; // Defining a positive definite integer\n",
    "    real<lower=-4.6, upper=7.8> rl; // Defining a real number with a strict range\n",
    "    vector<lower=-10, upper=10>[n] vec; // Defining a restricted vector with size n\n",
    "}"
   ]
  },
  {
   "cell_type": "code",
   "execution_count": null,
   "metadata": {
    "slideshow": {
     "slide_type": "subslide"
    }
   },
   "outputs": [],
   "source": [
    "SampleCode = \"\"\"\n",
    "data {\n",
    "    type variable; // This is how you comment\n",
    "    int n; // Defining an integer\n",
    "    real r; // Defining a real number\n",
    "    real[n] rs; // Defining an array of reals with size n\n",
    "    vector[n] v; // Defining a vector of size n (Same as above, but can vectorize operations)\n",
    "    \n",
    "    int<lower=0> pos; // Defining a positive definite integer\n",
    "    real<lower=-4.6, upper=7.8> rl; // Defining a real number with a strict range\n",
    "    vector<lower=-10, upper=10>[n] vec; // Defining a restricted vector with size n\n",
    "}\n",
    "\n",
    "parameters{\n",
    "    type par; // More comments\n",
    "}\n",
    "\n",
    "transformed parameters{\n",
    "    vector[n] true = par*vec + rl; // Sometimes need \".\" before operator for vectors\n",
    "}"
   ]
  },
  {
   "cell_type": "code",
   "execution_count": null,
   "metadata": {
    "slideshow": {
     "slide_type": "subslide"
    }
   },
   "outputs": [],
   "source": [
    "SampleCode = \"\"\"\n",
    "data {\n",
    "    type variable; // This is how you comment\n",
    "    int n; // Defining an integer\n",
    "    real r; // Defining a real number\n",
    "    real[n] rs; // Defining an array of reals with size n\n",
    "    vector[n] v; // Defining a vector of size n (Same as above, but can vectorize operations)\n",
    "    \n",
    "    int<lower=0> pos; // Defining a positive definite integer\n",
    "    real<lower=-4.6, upper=7.8> rl; // Defining a real number with a strict range\n",
    "    vector<lower=-10, upper=10>[n] vec; // Defining a restricted vector with size n\n",
    "}\n",
    "\n",
    "parameters{\n",
    "    type par; // More comments\n",
    "}\n",
    "\n",
    "transformed parameters{\n",
    "    vector[n] true = par*vec + rl; // \n",
    "}\n",
    "\n",
    "model {\n",
    "    measured ~ normal(true, error); // Sampling from a normal distribution, OR\n",
    "    for (i in 1:n) {\n",
    "        v[i] ~ normal(true[i], error)\n",
    "    };\n",
    "    \n",
    "    par ~ uniform(low, up); // Sampling from a uniform prior\n",
    "}\n",
    "\"\"\""
   ]
  },
  {
   "cell_type": "markdown",
   "metadata": {
    "slideshow": {
     "slide_type": "slide"
    }
   },
   "source": [
    "# Model for a line\n",
    "\n",
    "- Data, $d_i= \\{ x_i, y_i \\}$, each $y_i$ measured with noise = 3\n",
    "- Parameters, $\\theta = \\{ a, b \\}$\n",
    "    - $0 < a < 8$\n",
    "    - $-5 < b < 5$\n",
    "- Model: \n",
    "\n",
    "\\begin{equation}\n",
    "p(\\theta\\, |\\, D) = p(D\\,|\\,\\theta) p(\\theta)\n",
    "\\end{equation}\n",
    "\n",
    "\\begin{equation}\n",
    "p(D\\,|\\,\\theta) = \\prod_i \\mathcal{N}(\\,y_i\\, |\\, ax_i + b, 3^2)\n",
    "\\end{equation}"
   ]
  },
  {
   "cell_type": "code",
   "execution_count": 3,
   "metadata": {
    "slideshow": {
     "slide_type": "slide"
    }
   },
   "outputs": [],
   "source": [
    "LineCode = \"\"\"\n",
    "data {\n",
    "    int<lower=0> n; // Number of data points\n",
    "    vector[n] x;\n",
    "    vector[n] y;\n",
    "}\n",
    "\n",
    "parameters {\n",
    "    real<lower=0, upper=8> a; // Slope\n",
    "    real<lower=-5, upper=5> b; // Intercept\n",
    "}\n",
    "\n",
    "transformed parameters {\n",
    "    vector[n] y_guess = a*x + b;\n",
    "}\n",
    "\n",
    "model{\n",
    "    y ~ normal(y_guess, 3);\n",
    "}\n",
    "\"\"\""
   ]
  },
  {
   "cell_type": "code",
   "execution_count": 4,
   "metadata": {
    "slideshow": {
     "slide_type": "fragment"
    }
   },
   "outputs": [
    {
     "name": "stderr",
     "output_type": "stream",
     "text": [
      "INFO:pystan:COMPILING THE C++ CODE FOR MODEL anon_model_3af224889cd18b104d6f496cdf3a34d8 NOW.\n"
     ]
    }
   ],
   "source": [
    "LineModel = stan.StanModel(model_code=LineCode)"
   ]
  },
  {
   "cell_type": "markdown",
   "metadata": {
    "slideshow": {
     "slide_type": "slide"
    }
   },
   "source": [
    "# Sampling with the model"
   ]
  },
  {
   "cell_type": "code",
   "execution_count": 5,
   "metadata": {
    "slideshow": {
     "slide_type": "slide"
    }
   },
   "outputs": [
    {
     "name": "stderr",
     "output_type": "stream",
     "text": [
      "/home/victor/anaconda2/lib/python2.7/site-packages/pystan/misc.py:399: FutureWarning: Conversion of the second argument of issubdtype from `float` to `np.floating` is deprecated. In future, it will be treated as `np.float64 == np.dtype(float).type`.\n",
      "  elif np.issubdtype(np.asarray(v).dtype, float):\n"
     ]
    }
   ],
   "source": [
    "LineData = {\"n\" : x.size, \n",
    "            \"x\" : x, \n",
    "            \"y\" : y}\n",
    "\n",
    "LineFit = LineModel.sampling(data=LineData, warmup=100, iter=1000, chains=4)"
   ]
  },
  {
   "cell_type": "code",
   "execution_count": 6,
   "metadata": {
    "slideshow": {
     "slide_type": "fragment"
    }
   },
   "outputs": [
    {
     "data": {
      "image/png": "[encoded data removed]",
      "text/plain": [
       "<matplotlib.figure.Figure at 0x7f67ff90bb10>"
      ]
     },
     "metadata": {},
     "output_type": "display_data"
    }
   ],
   "source": [
    "P = LineFit.extract(permuted=1)\n",
    "LineSamples = np.swapaxes(np.array([P['a'], P['b']]), 0, 1)\n",
    "fig = corner.corner(LineSamples, labels=[\"$a$\", \"$b$\"], show_titles=1)"
   ]
  },
  {
   "cell_type": "markdown",
   "metadata": {
    "slideshow": {
     "slide_type": "slide"
    }
   },
   "source": [
    "# Adding Custom Functions"
   ]
  },
  {
   "cell_type": "code",
   "execution_count": null,
   "metadata": {
    "slideshow": {
     "slide_type": "fragment"
    }
   },
   "outputs": [],
   "source": [
    "SampleCode = \"\"\"\n",
    "functions {\n",
    "    real customPrior_lpdf(vector vec, real x) {\n",
    "        return sum(x*log(vec))\n",
    "    }\n",
    "}\n",
    "\n",
    "data {\n",
    "    type variable; // This is how you comment\n",
    "    int n; // Defining an integer\n",
    "    real r; // Defining a real number\n",
    "    real[n] rs; // Defining an array of reals with size n\n",
    "    vector[n] v; // Defining a vector of size n (Same as above, but can vectorize operations)\n",
    "    \n",
    "    int<lower=0> pos; // Defining a positive definite integer\n",
    "    real<lower=-4.6, upper=7.8> rl; // Defining a real number with a strict range\n",
    "    vector<lower=-10, upper=10>[n] vec; // Defining a restricted vector with size n\n",
    "}\n",
    "\n",
    "parameters{\n",
    "    type par; // More comments\n",
    "}\n",
    "\n",
    "transformed parameters{\n",
    "    vector[n] true = par*vec + rl; // \n",
    "}\n",
    "\n",
    "model {\n",
    "    measured ~ normal(true, error); // Sampling from a normal distribution, OR\n",
    "    for (i in 1:n) {\n",
    "        v[i] ~ normal(true[i], error)\n",
    "    };\n",
    "    \n",
    "    par ~ uniform(low, up); // Sampling from a uniform prior\n",
    "}\n",
    "\"\"\""
   ]
  },
  {
   "cell_type": "markdown",
   "metadata": {
    "slideshow": {
     "slide_type": "slide"
    }
   },
   "source": [
    "# Transformed Data\n",
    "\n",
    "- Define with a `transformed data {}` block\n",
    "- Similar to `transformed parameters`, but uses only objects declared in `data`\n",
    "- Can use to define constants, etc."
   ]
  },
  {
   "cell_type": "markdown",
   "metadata": {
    "slideshow": {
     "slide_type": "slide"
    }
   },
   "source": [
    "# Useful options for sampling\n",
    "\n",
    "- `pars` lets you choose which parameters to keep.\n",
    "- You can save every `thin`-th sample with this option\n",
    "- Choose your own initial step with `init`"
   ]
  },
  {
   "cell_type": "markdown",
   "metadata": {
    "slideshow": {
     "slide_type": "slide"
    }
   },
   "source": [
    "# Stan Users Guide\n",
    "\n",
    "- http://mc-stan.org/users/documentation/, OR Google \"stan documentation\"\n",
    "- Very extensive and well written\n",
    "- Contains many useful pre-defined functions & lpdfs\n",
    "- Look here for more complicated syntax/operations"
   ]
  }
 ],
 "metadata": {
  "celltoolbar": "Slideshow",
  "kernelspec": {
   "display_name": "Python 2",
   "language": "python",
   "name": "python2"
  },
  "language_info": {
   "codemirror_mode": {
    "name": "ipython",
    "version": 2
   },
   "file_extension": ".py",
   "mimetype": "text/x-python",
   "name": "python",
   "nbconvert_exporter": "python",
   "pygments_lexer": "ipython2",
   "version": "2.7.13"
  }
 },
 "nbformat": 4,
 "nbformat_minor": 2
}
